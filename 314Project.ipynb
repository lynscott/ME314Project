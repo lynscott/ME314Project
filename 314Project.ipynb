{
 "cells": [
  {
   "cell_type": "code",
   "execution_count": 62,
   "metadata": {},
   "outputs": [],
   "source": [
    "#Gear Design\n",
    "import numpy as np\n",
    "import pandas as pd\n",
    "import math\n",
    "from math import sqrt, pi\n",
    "\n",
    "#General\n",
    "T = 300 #F\n",
    "Rel = 99\n",
    "FOS = 2\n",
    "Bearing_Life = 120 #kh"
   ]
  },
  {
   "cell_type": "code",
   "execution_count": 12,
   "metadata": {},
   "outputs": [],
   "source": [
    "#Input \n",
    "Pinput = 150\n",
    "Winput = 2000\n",
    "\n",
    "#Cooling Pump\n",
    "Ppump = 2\n",
    "Wpump = 3000 #rpms\n",
    "\n",
    "#Electrical Gen\n",
    "Pgen = 53\n",
    "Wgen = 1800\n",
    "\n",
    "#Actuators/Motors\n",
    "Pmotor = {'max':68, 'min':0}\n",
    "Wmotor = 667\n",
    "\n",
    "#Layout in\n",
    "X1 = 12\n",
    "X2 = 8\n",
    "Yt = 12\n",
    "Z1 = 4\n",
    "Z2 = 8\n",
    "\n",
    "i=1\n",
    "\n",
    "#Test Ng\n",
    "Ng = 60"
   ]
  },
  {
   "cell_type": "code",
   "execution_count": 93,
   "metadata": {},
   "outputs": [
    {
     "name": "stdout",
     "output_type": "stream",
     "text": [
      "eIC+motor: 2.998500749625187\n",
      "eIC+pump: 0.6666666666666666\n",
      "eIC+gen: 1.1111111111111112 \n",
      "\n",
      "Np(eIC+pump): 90.0\n",
      "Np(eIC+gen): 54.0\n",
      "Np(eIC+motor): 20.01 \n",
      "\n",
      "dp_motor   -12.009002\n",
      "dg_motor    36.009002\n",
      "dp_pump     12.000000\n",
      "dg_pump      8.000000\n",
      "dp_gen       9.473684\n",
      "dg_gen      10.526316\n",
      "Name: 0, dtype: float64 \n",
      "\n",
      "Pump: 7.499999999999999\n",
      "Motor: -1.6662499999999998\n",
      "Gen: 5.7\n"
     ]
    }
   ],
   "source": [
    "eIC_motor = Winput/Wmotor\n",
    "eIC_pump = Winput/Wpump\n",
    "eIC_gen = Winput/Wgen\n",
    "\n",
    "print(\"eIC+motor:\", eIC_motor)\n",
    "print(\"eIC+pump:\",eIC_pump)\n",
    "print(\"eIC+gen:\",eIC_gen, \"\\n\")\n",
    "\n",
    "Np_eIC_pump = Ng/eIC_pump\n",
    "Np_eIC_gen = Ng/eIC_gen\n",
    "Np_eIC_motor = Ng/eIC_motor\n",
    "\n",
    "print(\"Np(eIC+pump):\",Np_eIC_pump)\n",
    "print(\"Np(eIC+gen):\",Np_eIC_gen)\n",
    "print(\"Np(eIC+motor):\",Np_eIC_motor, \"\\n\")\n",
    "\n",
    "#C = dp+dg/2\n",
    "#e = dg/dp\n",
    "#Ni = di*P\n",
    "\n",
    "A = np.matrix([[0.5,0.5,0,0,0,0], [eIC_motor,1,0,0,0,0], [0,0,0.5,0.5,0,0],\n",
    "        [0,0,-eIC_pump,1,0,0],[0,0,0,0,0.5,0.5],[0,0,0,0,-eIC_gen,1]])\n",
    "# print(A, \"\\n\")\n",
    "\n",
    "\n",
    "B = np.matrix([[X1],[0],[sqrt(X2**2+((Yt/2)**2))],[0],[sqrt(X2**2+((Yt/2)**2))],[0],])\n",
    "# print(B, \"\\n\")\n",
    "\n",
    "x = np.matmul(np.linalg.inv(A), B)\n",
    "\n",
    "x = pd.DataFrame(x,index=(['dp_motor','dg_motor','dp_pump','dg_pump','dp_gen','dg_gen']))\n",
    "\n",
    "Xmatrix = x[0]\n",
    "print(Xmatrix, \"\\n\")\n",
    "\n",
    "\n",
    "P_pump = Np_eIC_pump/Xmatrix['dp_pump']\n",
    "P_motor = Np_eIC_motor/Xmatrix['dp_motor']\n",
    "P_gen = Np_eIC_gen/Xmatrix['dp_gen']\n",
    "\n",
    "print(\"Pump:\", P_pump)\n",
    "print(\"Motor:\",P_motor)\n",
    "print(\"Gen:\",P_gen)\n",
    "\n"
   ]
  },
  {
   "cell_type": "code",
   "execution_count": 81,
   "metadata": {},
   "outputs": [],
   "source": [
    "dt = Xmatrix[0]"
   ]
  }
 ],
 "metadata": {
  "kernelspec": {
   "display_name": "Python 3",
   "language": "python",
   "name": "python3"
  },
  "language_info": {
   "codemirror_mode": {
    "name": "ipython",
    "version": 3
   },
   "file_extension": ".py",
   "mimetype": "text/x-python",
   "name": "python",
   "nbconvert_exporter": "python",
   "pygments_lexer": "ipython3",
   "version": "3.6.1"
  }
 },
 "nbformat": 4,
 "nbformat_minor": 2
}
